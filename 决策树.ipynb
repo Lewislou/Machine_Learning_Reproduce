{
 "cells": [
  {
   "cell_type": "code",
   "execution_count": 1,
   "metadata": {
    "collapsed": true
   },
   "outputs": [],
   "source": [
    "import numpy as np\n",
    "from matplotlib import pyplot as plt\n",
    "%matplotlib inline"
   ]
  },
  {
   "cell_type": "code",
   "execution_count": 13,
   "metadata": {},
   "outputs": [],
   "source": [
    "class Node:\n",
    "    #决策树的节点\n",
    "    def __init__(self,depth,X=None,y=None):\n",
    "        '''\n",
    "        depth:当前节点的深度\n",
    "        feature:节点分离数据的分叉点\n",
    "        thresh: 分裂的阈值\n",
    "        label:当前节点数据中出现频率最高的类别\n",
    "        np.bincount(y)返回每个索引出现的次数，例如索引0存储的是class0在y中出现的次数，相应的最后一个索引应该等于y中class的最大值\n",
    "        left,right:构建数的连接\n",
    "        '''\n",
    "        self.isleaf = None\n",
    "        self.depth = depth\n",
    "        self.X = X\n",
    "        self.y = y\n",
    "        self.n,self.m = self.X.shape\n",
    "        self.best_feature = None\n",
    "        self.thresh = None\n",
    "        self.label = np.argmax(np.bincount(y))\n",
    "        self.left = None\n",
    "        self.right = None\n",
    "    def gini(self,y):\n",
    "        '''\n",
    "        y:输入一个特征下某个属性对应的y，对y类别进行计数例如是：3，否：2\n",
    "        Gini = 1 - (3/5)**2 - (2/5)**2\n",
    "        '''\n",
    "        s = np.bincount(y)\n",
    "        N = len(y)\n",
    "        gini = 1-sum((s/N)**2)\n",
    "        return gini\n",
    "    def gini_attr(self,left,right):\n",
    "        '''\n",
    "        输入二分类的两个分叉属性，计算它们的gini指数，并且返回当前特征整体的gini指数\n",
    "        '''\n",
    "        n1 = len(left)\n",
    "        n2 = len(right)\n",
    "        n = n1+n2\n",
    "        return (n1/n)*self.gini(left)+(n2/n)*self.gini(right)\n",
    "    \n",
    "    def find_best_split(self):\n",
    "        '''\n",
    "        这个函数目的是找出gini系数最小的feature，以及这个feature二分类的阈值\n",
    "        首先对X进行分析，每一列都是不同的feature，每一行的值就是对不同feature的取值\n",
    "        先对列进行升序排序，确保返回的阈值是正确的中间分类值\n",
    "        '''\n",
    "        best_feature = None\n",
    "        best_thresh = None\n",
    "        minimum = float('inf')\n",
    "        for feature in range(self.m):\n",
    "            index = np.argsort(self.X[:,feature])\n",
    "            X_sorted = self.X[index]\n",
    "            y_sorted = self.y[index]\n",
    "            for i in range(1,self.n):\n",
    "                x_left = X_sorted[:i]\n",
    "                x_right = X_sorted[i:]\n",
    "                gini_i = self.gini_attr(x_left,x_right)\n",
    "                if gini_i < minimum:\n",
    "                    minimum = gini_i\n",
    "                    best_feature = feature\n",
    "                    best_thresh = (X_sorted[i-1,feature] + X_sorted[i,feature]) / 2\n",
    "        self.best_feature = best_feature\n",
    "        self.best_thresh = best_thresh\n",
    "    def split(self,max_depth,min_sample_split):\n",
    "        '''\n",
    "        根据当前的best_feature 和 best_thresh来进行分裂。同时当达到最大深度或者将分成一类时及时停止\n",
    "        并且将left,right节点进行递归计算,判断是否到达最大递归限制\n",
    "        '''\n",
    "        if len(self.y) < min_sample_split:\n",
    "            self.isleaf = True\n",
    "            return\n",
    "        elif self.depth <= max_depth:\n",
    "            self.isleaf = True\n",
    "            return\n",
    "        elif len(np.unique(self.y)) <= 1:#可分类的class只有一类\n",
    "            self.isleaf = True\n",
    "            return\n",
    "        else:\n",
    "            self.isleaf = False\n",
    "            self.find_best_split()\n",
    "            index_left = np.where(self.X[:self.best_feature] < self.thresh)\n",
    "            index_right = np.where(self.X[self.best_feature:] >= self.thresh)\n",
    "            self.left = Node(depth = self.depth + 1,X = self.X[:index_left],y = self.y[:index_left])\n",
    "            self.right = Node(depth = self.depth + 1,X = self.X[index_right:],y = self.y[index_right:])\n",
    "            self.left.split(max_depth, min_samples_split)\n",
    "            self.right.split(max_depth, min_samples_split)\n",
    "            return\n",
    "    def judge(self,x):\n",
    "        '''\n",
    "        返回该x对应的叶子节点的值。也就是预测值\n",
    "        '''\n",
    "        if self.isleaf:\n",
    "            return self.label\n",
    "        else:\n",
    "            if x[self.feature] < self.thresh: #当x的feature i小于对这个feature的阈值，往左寻找\n",
    "                self.left.judge(x)\n",
    "            else:\n",
    "                self.right.judge(x)\n",
    "        "
   ]
  },
  {
   "cell_type": "code",
   "execution_count": 14,
   "metadata": {},
   "outputs": [],
   "source": [
    "class DecisionTreeClassifier:\n",
    "    def __init__(self,max_depth,min_sample_split):\n",
    "        self.max_depth = max_depth\n",
    "        self.min_sample_split = min_sample_split\n",
    "    def fit(self,X,y):\n",
    "        self.root = Node(depth = 0,X = X,y = y)\n",
    "        self.root.split(max_depth = self.max_depth,min_sample_split = self.min_sample_split)\n",
    "        return self\n",
    "    def predict(self,X):\n",
    "        y = np.zeros(len(X),dtype = 'int')\n",
    "        for i in range(len(X)):\n",
    "            y[i] = self.root.judge(X[i])\n",
    "        return y"
   ]
  },
  {
   "cell_type": "code",
   "execution_count": 15,
   "metadata": {},
   "outputs": [],
   "source": [
    "\n",
    "from sklearn import datasets\n",
    "\n",
    "N = 100\n",
    "X, y = datasets.make_moons(n_samples = N, noise = 0.2)\n",
    "\n",
    "xx1 = np.linspace(np.min(X[:,0]),np.max(X[:,0]),101)\n",
    "xx2 = np.linspace(np.min(X[:,1]),np.max(X[:,1]),100)\n",
    "Xtest = np.array([[x1,x2] for x1 in xx1  for x2 in xx2])\n",
    "xxx1, xxx2 = np.meshgrid(xx1, xx2)\n",
    "\n",
    "def plot_result(clf):\n",
    "    plt.plot(X[:,0][y==1], X[:,1][y==1],\"o\",label=\"1\")\n",
    "    plt.plot(X[:,0][y==0], X[:,1][y==0],\"o\",label=\"0\")\n",
    "    plt.legend()\n",
    "    pred_val = clf.predict(Xtest)\n",
    "    pred_val_2D = np.reshape(pred_val,(len(xx1),len(xx2))).T\n",
    "    plt.pcolormesh(xxx1, xxx2, pred_val_2D)\n",
    "    plt.colorbar()\n",
    "    plt.show()"
   ]
  },
  {
   "cell_type": "code",
   "execution_count": 16,
   "metadata": {},
   "outputs": [
    {
     "data": {
      "image/png": "[encoded data removed]",
      "text/plain": [
       "<Figure size 432x288 with 2 Axes>"
      ]
     },
     "metadata": {},
     "output_type": "display_data"
    }
   ],
   "source": [
    "clf = DecisionTreeClassifier(max_depth=40, min_sample_split=2)\n",
    "clf.fit(X, y)\n",
    "plot_result(clf)"
   ]
  },
  {
   "cell_type": "code",
   "execution_count": null,
   "metadata": {
    "collapsed": true
   },
   "outputs": [],
   "source": []
  }
 ],
 "metadata": {
  "kernelspec": {
   "display_name": "tensorflow",
   "language": "python",
   "name": "tensorflow"
  },
  "language_info": {
   "codemirror_mode": {
    "name": "ipython",
    "version": 3
   },
   "file_extension": ".py",
   "mimetype": "text/x-python",
   "name": "python",
   "nbconvert_exporter": "python",
   "pygments_lexer": "ipython3",
   "version": "3.5.5"
  }
 },
 "nbformat": 4,
 "nbformat_minor": 2
}
